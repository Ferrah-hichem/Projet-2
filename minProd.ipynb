{
 "cells": [
  {
   "cell_type": "markdown",
   "metadata": {},
   "source": [
    "# Fonction qui calcul le nombre minimum de produits pour calculer  n^k\n",
    "principe: on considère les multiplication comme des somme des coefficient, c'est comme si on trouve une decomposition optimale d'un nombre    \n",
    "par exemple k impair :      \n",
    "pour calculer n^15   \n",
    "on a     \n",
    "1+1=2        \n",
    "2+1=3 (dans le cas impair ceci est toujours utilisé comme deuxieme itération)   \n",
    "3+3=6 (On retourne directement le double de ce qu'on a trouvé avant)   \n",
    "6+6=12 (idem)    \n",
    "12+3=15 ( ici on réutilise 3 qu'on a deja enregistré a coté de tout les calculs deja fait)    \n",
    "\"Arret\" car s=k\n",
    "       \n",
    "exemple n^20 (k pair):      \n",
    "1+1=2      \n",
    "2+2=4 (On retourne directement le double de ce qu'on a trouvé avant)    \n",
    "4+4=8 (idem)    \n",
    "8+8=16 (idem)      \n",
    "16+4=20 ( ici on réutilise 4 qu'on a deja enregistré a coté de tout les calculs deja fait)     \n",
    "\"Arret\" car s=k     \n"
   ]
  },
  {
   "cell_type": "code",
   "execution_count": 3,
   "metadata": {},
   "outputs": [],
   "source": [
    "def minProd(k):\n",
    "    T=[] #cette liste nous permet d'enregistrer quelques calculs deja fait\n",
    "    if k==1: # c'est clair que si k=0 on pas besoin de faire un calcul\n",
    "        return 0 # donc nombre =0\n",
    "    n=0 #variable dans la quelle on met le nombre de de produits minimum\n",
    "    s=1 \n",
    "    b=1\n",
    "    T.append(b)#on enregistre la valeur b\n",
    "    a=True#un booleen qui nous permet de modifier une itération si k est impair par la suite\n",
    "    if k%2!=0:\n",
    "        a=False\n",
    "    while s<k:\n",
    "        if a==False and n==1:#a l'etiration ou n=1 et k est impair on essaie de modifier pour avoir 2+1=3  sans faire un double travail\n",
    "            b=b+1 \n",
    "            T.append(b)\n",
    "            s=b\n",
    "            n=n+1 \n",
    "            a=True\n",
    "        j=len(T)-1\n",
    "        if s+b>k:\n",
    "            while j>=0: # ca nous permet de réutiliser les calculs deja fait si a la prochaine somme le s depasse k , il ne faut pas que s depasse k car c'est notre assurance d'arret\n",
    "                if T[j]+s>k:#ici on cherche l'element le plus recent qu'on a calculé qui nous permet de réalsier cette otération\n",
    "                    j=j-1\n",
    "                else:\n",
    "                    s=s+T[j]\n",
    "                    n=n+1\n",
    "        else:#ce bloc concerne les itérations normal generalment ca concernes les premieres itérations\n",
    "            s=s+b\n",
    "            b=2*b\n",
    "            n=n+1\n",
    "            T.append(b)\n",
    "    return n"
   ]
  },
  {
   "cell_type": "code",
   "execution_count": 4,
   "metadata": {},
   "outputs": [
    {
     "name": "stdout",
     "output_type": "stream",
     "text": [
      "5 7 7 8\n"
     ]
    }
   ],
   "source": [
    "print(minProd(15),minProd(37),minProd(68),minProd(100))"
   ]
  },
  {
   "cell_type": "markdown",
   "metadata": {},
   "source": [
    "# Fonction qui calcule la somme des minprod des k premiers nombres"
   ]
  },
  {
   "cell_type": "code",
   "execution_count": 6,
   "metadata": {},
   "outputs": [],
   "source": [
    "def somprod(n):\n",
    "    s=0\n",
    "    i=1\n",
    "    while i<=n:\n",
    "        s=s+minProd(i)\n",
    "        i=i+1\n",
    "    print(s)"
   ]
  },
  {
   "cell_type": "markdown",
   "metadata": {},
   "source": [
    "# Calcul demandé:"
   ]
  },
  {
   "cell_type": "code",
   "execution_count": 7,
   "metadata": {},
   "outputs": [
    {
     "name": "stdout",
     "output_type": "stream",
     "text": [
      "1686\n"
     ]
    }
   ],
   "source": [
    "somprod(200)"
   ]
  },
  {
   "cell_type": "code",
   "execution_count": null,
   "metadata": {},
   "outputs": [],
   "source": []
  }
 ],
 "metadata": {
  "kernelspec": {
   "display_name": "Python 3",
   "language": "python",
   "name": "python3"
  },
  "language_info": {
   "codemirror_mode": {
    "name": "ipython",
    "version": 3
   },
   "file_extension": ".py",
   "mimetype": "text/x-python",
   "name": "python",
   "nbconvert_exporter": "python",
   "pygments_lexer": "ipython3",
   "version": "3.5.2"
  }
 },
 "nbformat": 4,
 "nbformat_minor": 2
}
